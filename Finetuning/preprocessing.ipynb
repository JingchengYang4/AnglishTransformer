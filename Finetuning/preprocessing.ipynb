{
 "cells": [
  {
   "cell_type": "code",
   "execution_count": 2,
   "metadata": {
    "pycharm": {
     "name": "#%%\n"
    }
   },
   "outputs": [],
   "source": [
    "import pandas as pd\n",
    "from sklearn.model_selection import train_test_split\n",
    "import re"
   ]
  },
  {
   "cell_type": "code",
   "execution_count": 3,
   "metadata": {
    "pycharm": {
     "name": "#%%\n"
    }
   },
   "outputs": [
    {
     "data": {
      "text/plain": "        wiki_id freebase_id  \\\n0           620     /m/0hhy   \n1           843     /m/0k36   \n2           986     /m/0ldx   \n3          1756     /m/0sww   \n4          2080     /m/0wkt   \n...         ...         ...   \n16554  36934824  /m/0m0p0hr   \n16555  37054020  /m/04f1nbs   \n16556  37122323  /m/0n5236t   \n16557  37132319  /m/0n4bqb1   \n16558  37159503   /m/073nkd   \n\n                                                   title              author  \\\n0                                            Animal Farm       George Orwell   \n1                                     A Clockwork Orange     Anthony Burgess   \n2                                             The Plague        Albert Camus   \n3              An Enquiry Concerning Human Understanding          David Hume   \n4                                   A Fire Upon the Deep        Vernor Vinge   \n...                                                  ...                 ...   \n16554                                     Under Wildwood         Colin Meloy   \n16555                                  Transfer of Power         Vince Flynn   \n16556                                            Decoded               Jay-Z   \n16557  America Again: Re-becoming The Greatness We Ne...     Stephen Colbert   \n16558                                          Poor Folk  Fyodor Dostoyevsky   \n\n             date                                             genres  \\\n0      1945-08-17  {\"/m/016lj8\": \"Roman \\u00e0 clef\", \"/m/06nbt\":...   \n1            1962  {\"/m/06n90\": \"Science Fiction\", \"/m/0l67h\": \"N...   \n2            1947  {\"/m/02m4t\": \"Existentialism\", \"/m/02xlf\": \"Fi...   \n3             NaN                                                NaN   \n4             NaN  {\"/m/03lrw\": \"Hard science fiction\", \"/m/06n90...   \n...           ...                                                ...   \n16554  2012-09-25                                                NaN   \n16555  2000-06-01   {\"/m/01jfsb\": \"Thriller\", \"/m/02xlf\": \"Fiction\"}   \n16556  2010-11-16                       {\"/m/0xdf\": \"Autobiography\"}   \n16557  2012-10-02                                                NaN   \n16558        1846  {\"/m/02ql9\": \"Epistolary novel\", \"/m/014dfn\": ...   \n\n                                                 summary  \n0       Old Major, the old boar on the Manor Farm, ca...  \n1       Alex, a teenager living in near-future Englan...  \n2       The text of The Plague is divided into five p...  \n3       The argument of the Enquiry proceeds by a ser...  \n4       The novel posits that space around the Milky ...  \n...                                                  ...  \n16554   Prue McKeel, having rescued her brother from ...  \n16555   The reader first meets Rapp while he is doing...  \n16556   The book follows very rough chronological ord...  \n16557   Colbert addresses topics including Wall Stree...  \n16558   Makar Devushkin and Varvara Dobroselova are s...  \n\n[16559 rows x 7 columns]",
      "text/html": "<div>\n<style scoped>\n    .dataframe tbody tr th:only-of-type {\n        vertical-align: middle;\n    }\n\n    .dataframe tbody tr th {\n        vertical-align: top;\n    }\n\n    .dataframe thead th {\n        text-align: right;\n    }\n</style>\n<table border=\"1\" class=\"dataframe\">\n  <thead>\n    <tr style=\"text-align: right;\">\n      <th></th>\n      <th>wiki_id</th>\n      <th>freebase_id</th>\n      <th>title</th>\n      <th>author</th>\n      <th>date</th>\n      <th>genres</th>\n      <th>summary</th>\n    </tr>\n  </thead>\n  <tbody>\n    <tr>\n      <th>0</th>\n      <td>620</td>\n      <td>/m/0hhy</td>\n      <td>Animal Farm</td>\n      <td>George Orwell</td>\n      <td>1945-08-17</td>\n      <td>{\"/m/016lj8\": \"Roman \\u00e0 clef\", \"/m/06nbt\":...</td>\n      <td>Old Major, the old boar on the Manor Farm, ca...</td>\n    </tr>\n    <tr>\n      <th>1</th>\n      <td>843</td>\n      <td>/m/0k36</td>\n      <td>A Clockwork Orange</td>\n      <td>Anthony Burgess</td>\n      <td>1962</td>\n      <td>{\"/m/06n90\": \"Science Fiction\", \"/m/0l67h\": \"N...</td>\n      <td>Alex, a teenager living in near-future Englan...</td>\n    </tr>\n    <tr>\n      <th>2</th>\n      <td>986</td>\n      <td>/m/0ldx</td>\n      <td>The Plague</td>\n      <td>Albert Camus</td>\n      <td>1947</td>\n      <td>{\"/m/02m4t\": \"Existentialism\", \"/m/02xlf\": \"Fi...</td>\n      <td>The text of The Plague is divided into five p...</td>\n    </tr>\n    <tr>\n      <th>3</th>\n      <td>1756</td>\n      <td>/m/0sww</td>\n      <td>An Enquiry Concerning Human Understanding</td>\n      <td>David Hume</td>\n      <td>NaN</td>\n      <td>NaN</td>\n      <td>The argument of the Enquiry proceeds by a ser...</td>\n    </tr>\n    <tr>\n      <th>4</th>\n      <td>2080</td>\n      <td>/m/0wkt</td>\n      <td>A Fire Upon the Deep</td>\n      <td>Vernor Vinge</td>\n      <td>NaN</td>\n      <td>{\"/m/03lrw\": \"Hard science fiction\", \"/m/06n90...</td>\n      <td>The novel posits that space around the Milky ...</td>\n    </tr>\n    <tr>\n      <th>...</th>\n      <td>...</td>\n      <td>...</td>\n      <td>...</td>\n      <td>...</td>\n      <td>...</td>\n      <td>...</td>\n      <td>...</td>\n    </tr>\n    <tr>\n      <th>16554</th>\n      <td>36934824</td>\n      <td>/m/0m0p0hr</td>\n      <td>Under Wildwood</td>\n      <td>Colin Meloy</td>\n      <td>2012-09-25</td>\n      <td>NaN</td>\n      <td>Prue McKeel, having rescued her brother from ...</td>\n    </tr>\n    <tr>\n      <th>16555</th>\n      <td>37054020</td>\n      <td>/m/04f1nbs</td>\n      <td>Transfer of Power</td>\n      <td>Vince Flynn</td>\n      <td>2000-06-01</td>\n      <td>{\"/m/01jfsb\": \"Thriller\", \"/m/02xlf\": \"Fiction\"}</td>\n      <td>The reader first meets Rapp while he is doing...</td>\n    </tr>\n    <tr>\n      <th>16556</th>\n      <td>37122323</td>\n      <td>/m/0n5236t</td>\n      <td>Decoded</td>\n      <td>Jay-Z</td>\n      <td>2010-11-16</td>\n      <td>{\"/m/0xdf\": \"Autobiography\"}</td>\n      <td>The book follows very rough chronological ord...</td>\n    </tr>\n    <tr>\n      <th>16557</th>\n      <td>37132319</td>\n      <td>/m/0n4bqb1</td>\n      <td>America Again: Re-becoming The Greatness We Ne...</td>\n      <td>Stephen Colbert</td>\n      <td>2012-10-02</td>\n      <td>NaN</td>\n      <td>Colbert addresses topics including Wall Stree...</td>\n    </tr>\n    <tr>\n      <th>16558</th>\n      <td>37159503</td>\n      <td>/m/073nkd</td>\n      <td>Poor Folk</td>\n      <td>Fyodor Dostoyevsky</td>\n      <td>1846</td>\n      <td>{\"/m/02ql9\": \"Epistolary novel\", \"/m/014dfn\": ...</td>\n      <td>Makar Devushkin and Varvara Dobroselova are s...</td>\n    </tr>\n  </tbody>\n</table>\n<p>16559 rows × 7 columns</p>\n</div>"
     },
     "execution_count": 3,
     "metadata": {},
     "output_type": "execute_result"
    }
   ],
   "source": [
    "df = pd.read_csv('dataset/booksummaries.txt', sep='\\t', names=['wiki_id', 'freebase_id', 'title', 'author', 'date', 'genres', 'summary'])\n",
    "df"
   ]
  },
  {
   "cell_type": "code",
   "execution_count": 4,
   "metadata": {
    "pycharm": {
     "name": "#%%\n"
    }
   },
   "outputs": [],
   "source": [
    "train_test_ratio = 0.9\n",
    "train_valid_ratio = 7/9\n",
    "df_full_train, df_test = train_test_split(df, train_size = train_test_ratio, random_state = 1)\n",
    "df_train, df_valid = train_test_split(df_full_train, train_size = train_valid_ratio, random_state = 1)"
   ]
  },
  {
   "cell_type": "code",
   "execution_count": 5,
   "metadata": {
    "pycharm": {
     "name": "#%%\n"
    }
   },
   "outputs": [],
   "source": [
    "def build_dataset(df, dest_path):\n",
    "    f = open(dest_path, 'w')\n",
    "    data = ''\n",
    "    summaries = df['summary'].tolist()\n",
    "    for summary in summaries:\n",
    "        summary = str(summary).strip()\n",
    "        summary = re.sub(r\"\\s\", \" \", summary)\n",
    "        bos_token = '<BOS>'\n",
    "        eos_token = '<EOS>'\n",
    "        data += bos_token + ' ' + summary + ' ' + eos_token + '\\n'\n",
    "        \n",
    "    f.write(data)"
   ]
  },
  {
   "cell_type": "code",
   "execution_count": 7,
   "metadata": {
    "pycharm": {
     "name": "#%%\n"
    }
   },
   "outputs": [],
   "source": [
    "build_dataset(df_train, 'train.txt')\n",
    "build_dataset(df_valid, 'valid.txt')\n",
    "build_dataset(df_test, 'test.txt')"
   ]
  },
  {
   "cell_type": "code",
   "execution_count": null,
   "metadata": {
    "pycharm": {
     "name": "#%%\n"
    }
   },
   "outputs": [],
   "source": []
  }
 ],
 "metadata": {
  "kernelspec": {
   "display_name": "Python 3",
   "language": "python",
   "name": "python3"
  },
  "language_info": {
   "codemirror_mode": {
    "name": "ipython",
    "version": 3
   },
   "file_extension": ".py",
   "mimetype": "text/x-python",
   "name": "python",
   "nbconvert_exporter": "python",
   "pygments_lexer": "ipython3",
   "version": "3.7.1"
  }
 },
 "nbformat": 4,
 "nbformat_minor": 2
}